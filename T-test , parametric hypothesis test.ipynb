{
 "cells": [
  {
   "cell_type": "markdown",
   "id": "c4d8445c",
   "metadata": {},
   "source": [
    "# t-test \n",
    "\n",
    "A t-test is a statistical hypothesis test used to compare the means of two groups or samples and determine if there is a significant difference between them. It helps you answer questions like \"Is there a real difference between the average scores of two groups?\" or \"Does a new treatment lead to better outcomes compared to the current standard treatment?"
   ]
  },
  {
   "cell_type": "code",
   "execution_count": 1,
   "id": "a8d6195f",
   "metadata": {},
   "outputs": [],
   "source": [
    "import pandas as pd\n",
    "import numpy as np\n",
    "import matplotlib.pyplot as plt\n",
    "import warnings\n",
    "warnings.filterwarnings('ignore')"
   ]
  },
  {
   "cell_type": "code",
   "execution_count": 3,
   "id": "759b3613",
   "metadata": {},
   "outputs": [],
   "source": [
    "# lets consider an example of cricket score of me and virat \n",
    "my_score = [23,43,56,76,45,43,41,12,1,23]\n",
    "virat_score = [89,67,98,76,88,78,90,87,82,21]"
   ]
  },
  {
   "cell_type": "markdown",
   "id": "62ec1692",
   "metadata": {},
   "source": [
    "### One Sample t-TEST"
   ]
  },
  {
   "cell_type": "code",
   "execution_count": 5,
   "id": "8c653317",
   "metadata": {},
   "outputs": [
    {
     "name": "stdout",
     "output_type": "stream",
     "text": [
      "Mean of My cricket scores 36.3\n",
      "Mean of Virat cricket scores 77.6\n"
     ]
    }
   ],
   "source": [
    "print(f\"Mean of My cricket scores {np.mean(my_score)}\")\n",
    "print(f\"Mean of Virat cricket scores {np.mean(virat_score)}\")"
   ]
  },
  {
   "cell_type": "markdown",
   "id": "211e40e7",
   "metadata": {},
   "source": [
    "- **null hypothesis (H0)**   : The null hypothesis states that there is no significant difference between the mean cricket                                 score (μ) and the specified value (μ0). i. e...  **( H0: μ = μ0 )**\n",
    "\n",
    "\n",
    "- **alternative hypothesis (H1)**  : The alternative hypothesis suggests that there is a significant difference between the                                      mean cricket score (μ) and the specified value (μ0)."
   ]
  },
  {
   "cell_type": "code",
   "execution_count": 6,
   "id": "23f0fbfe",
   "metadata": {},
   "outputs": [],
   "source": [
    "from scipy.stats import ttest_1samp"
   ]
  },
  {
   "cell_type": "code",
   "execution_count": 7,
   "id": "fd00f087",
   "metadata": {},
   "outputs": [
    {
     "name": "stdout",
     "output_type": "stream",
     "text": [
      "Reject Null Hypothesis: There is a significant difference between mean cricket score and the specified value.\n"
     ]
    }
   ],
   "source": [
    "stat, p = ttest_1samp(my_score, 20)\n",
    "\n",
    "if p < 0.05:\n",
    "    print(\"Reject Null Hypothesis: There is a significant difference between mean cricket score and the specified value.\")\n",
    "else :\n",
    "    print(\" Fail to Reject Null Hypothesis :There is no significant difference.\")"
   ]
  },
  {
   "cell_type": "code",
   "execution_count": 8,
   "id": "048497ae",
   "metadata": {},
   "outputs": [
    {
     "name": "stdout",
     "output_type": "stream",
     "text": [
      " Fail to Reject Null Hypothesis :There is no significant difference.\n"
     ]
    }
   ],
   "source": [
    "stat, p = ttest_1samp(my_score, 30)\n",
    "\n",
    "if p < 0.05:\n",
    "    print(\"Reject Null Hypothesis: There is a significant difference between mean cricket score and the specified value.\")\n",
    "else :\n",
    "    print(\" Fail to Reject Null Hypothesis :There is no significant difference.\")"
   ]
  },
  {
   "cell_type": "markdown",
   "id": "b139b2ba",
   "metadata": {},
   "source": [
    "# Independent t-test\n",
    "\n",
    "- **Used when comparing the means of two independent groups or samples (e.g., comparing test scores of two different classes).**"
   ]
  },
  {
   "cell_type": "code",
   "execution_count": 12,
   "id": "9eef1a1b",
   "metadata": {},
   "outputs": [
    {
     "name": "stdout",
     "output_type": "stream",
     "text": [
      "Reject Null Hypothesis: There is a significant difference between my mean cricket score and virat's mean score.\n"
     ]
    }
   ],
   "source": [
    "# independent score \n",
    "\n",
    "from scipy.stats import ttest_ind\n",
    "stat , p = ttest_ind(my_score, virat_score)\n",
    "\n",
    "if p < 0.05:\n",
    "    print(\"Reject Null Hypothesis: There is a significant difference between my mean cricket score and virat's mean score.\")\n",
    "else :\n",
    "    print(\" Fail to Reject Null Hypothesis :There is no significant difference.\")"
   ]
  },
  {
   "cell_type": "code",
   "execution_count": null,
   "id": "86bde5cf",
   "metadata": {},
   "outputs": [],
   "source": []
  },
  {
   "cell_type": "markdown",
   "id": "1ca35eea",
   "metadata": {},
   "source": [
    "# Paired Samples t-Test\n",
    "- **Used when comparing the means of two related groups or samples (e.g., before and after measurements in a study).**"
   ]
  },
  {
   "cell_type": "code",
   "execution_count": 17,
   "id": "94bfd13b",
   "metadata": {},
   "outputs": [
    {
     "data": {
      "text/plain": [
       "70.3"
      ]
     },
     "execution_count": 17,
     "metadata": {},
     "output_type": "execute_result"
    }
   ],
   "source": [
    "#Paired Samples T-Test:\n",
    "my_score_second_tour = [34,56,78,87,76,78,98,77,65,54]\n",
    "np.mean(my_score_second_tour)"
   ]
  },
  {
   "cell_type": "code",
   "execution_count": 16,
   "id": "1bd15efd",
   "metadata": {},
   "outputs": [
    {
     "name": "stdout",
     "output_type": "stream",
     "text": [
      "Reject Null Hypothesis: There is a significant difference between first tour and second tour mean score\n"
     ]
    }
   ],
   "source": [
    "from scipy.stats import ttest_rel\n",
    "\n",
    "stat, p = ttest_rel(my_score, my_score_second_tour)\n",
    "\n",
    "if p < 0.05:\n",
    "    print(\"Reject Null Hypothesis: There is a significant difference between first tour and second tour mean score\")\n",
    "else :\n",
    "    print(\" Fail to Reject Null Hypothesis :There is no significant difference.\")\n"
   ]
  },
  {
   "cell_type": "markdown",
   "id": "fb9c8d2e",
   "metadata": {},
   "source": [
    "\n",
    "###  Use cases of t-test in real world.\n",
    "\n",
    "Certainly! T-tests are widely used in various real-world scenarios by data analysts to compare groups and draw meaningful conclusions. Here are some common use cases:\n",
    "\n",
    "1. **A/B Testing in Online Marketing**:\n",
    "   - Data analysts use t-tests to compare the performance of two versions of a website or app (e.g., old design vs. new design) to determine if there's a significant difference in metrics like conversion rates, click-through rates, or user engagement.\n",
    "\n",
    "2. **Product Testing and Quality Control**:\n",
    "   - Manufacturing companies use t-tests to check whether a new manufacturing process or material leads to significant improvements in product quality or performance.\n",
    "\n",
    "3. **Medical Research**:\n",
    "   - In clinical trials, t-tests are employed to assess whether a new drug or treatment produces statistically significant improvements in patient outcomes compared to a placebo or an existing treatment.\n",
    "\n",
    "4. **Education and Academic Research**:\n",
    "   - Researchers in education use t-tests to evaluate the impact of different teaching methods or interventions on student performance, such as comparing the mean test scores of two groups of students.\n",
    "\n",
    "5. **Customer Satisfaction Surveys**:\n",
    "   - Businesses use t-tests to analyze customer satisfaction survey data and determine if there is a significant difference in customer satisfaction scores between different branches, regions, or product/service offerings.\n",
    "\n",
    "6. **Finance and Investment Analysis**:\n",
    "   - Analysts use t-tests to compare the returns on different investment portfolios or asset classes to determine if one portfolio significantly outperforms the other.\n",
    "\n",
    "7. **Employee Performance Evaluation**:\n",
    "   - HR departments use t-tests to assess whether there is a significant difference in job performance scores between two groups (e.g., employees who received training vs. those who did not).\n",
    "\n",
    "8. **Environmental Studies**:\n",
    "   - Environmental scientists might use t-tests to compare pollutant levels before and after implementing environmental policies or interventions to assess their effectiveness.\n",
    "\n",
    "9. **Retail and Pricing Strategies**:\n",
    "   - Retailers analyze sales data and use t-tests to determine if changes in pricing strategies (e.g., discounts or promotions) lead to significant changes in sales revenue.\n",
    "\n",
    "10. **Psychological Studies**:\n",
    "    - Psychologists use t-tests to investigate the effects of psychological interventions or therapies on mental health outcomes, comparing pre-treatment and post-treatment scores.\n",
    "\n",
    "11. **Social Sciences Research**:\n",
    "    - Social scientists utilize t-tests to analyze survey data and evaluate differences in attitudes, behaviors, or preferences between different demographic groups (e.g., gender, age, income).\n",
    "\n",
    "12. **Sports Analytics**:\n",
    "    - Analysts in sports use t-tests to compare performance metrics (e.g., batting averages, goal-scoring rates) of athletes or teams under different conditions (e.g., home games vs. away games).\n",
    "\n",
    "These are just a few examples of how data analysts use t-tests to compare groups and make data-driven decisions in various fields. T-tests are a fundamental tool for assessing differences and drawing conclusions based on statistical evidence."
   ]
  },
  {
   "cell_type": "code",
   "execution_count": null,
   "id": "17f9e625",
   "metadata": {},
   "outputs": [],
   "source": []
  }
 ],
 "metadata": {
  "kernelspec": {
   "display_name": "Python 3 (ipykernel)",
   "language": "python",
   "name": "python3"
  },
  "language_info": {
   "codemirror_mode": {
    "name": "ipython",
    "version": 3
   },
   "file_extension": ".py",
   "mimetype": "text/x-python",
   "name": "python",
   "nbconvert_exporter": "python",
   "pygments_lexer": "ipython3",
   "version": "3.9.13"
  }
 },
 "nbformat": 4,
 "nbformat_minor": 5
}
