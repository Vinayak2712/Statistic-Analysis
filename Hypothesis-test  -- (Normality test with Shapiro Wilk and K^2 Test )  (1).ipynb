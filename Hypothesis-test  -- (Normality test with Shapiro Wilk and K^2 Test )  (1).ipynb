{
 "cells": [
  {
   "cell_type": "markdown",
   "id": "36c3c61b",
   "metadata": {},
   "source": [
    "# Hypothesis-Test\n",
    "\n",
    "* **Normailty**   ---  Target variable should be normally distributed\n",
    ".\n",
    "\n",
    "\n",
    "* **Correlation** --    continous/continous  or  Categorical/Categorical \n",
    ".\n",
    "\n",
    "\n",
    "* **Ohers** --   Parametric - t-test    /    non-parametric  chi_2 Test   / Stationary test -- In time series Analysis "
   ]
  },
  {
   "cell_type": "markdown",
   "id": "466f0b19",
   "metadata": {},
   "source": [
    "## Normality Test:\n",
    "\n",
    "A normality test is a statistical procedure used to determine whether a dataset follows a normal distribution (Gaussian distribution). The normal distribution is characterized by its bell-shaped curve and specific properties, such as symmetry and a well-defined mean and standard deviation. Normality tests are essential because many statistical techniques assume that the data being analyzed is normally distributed. If the data significantly deviates from normality, it can affect the validity of certain statistical analyses."
   ]
  },
  {
   "cell_type": "code",
   "execution_count": 1,
   "id": "858c811f",
   "metadata": {},
   "outputs": [],
   "source": [
    "import pandas as pd\n",
    "import numpy as np\n",
    "import warnings\n",
    "warnings.filterwarnings('ignore')"
   ]
  },
  {
   "cell_type": "code",
   "execution_count": 2,
   "id": "06fde1f0",
   "metadata": {},
   "outputs": [
    {
     "data": {
      "text/html": [
       "<div>\n",
       "<style scoped>\n",
       "    .dataframe tbody tr th:only-of-type {\n",
       "        vertical-align: middle;\n",
       "    }\n",
       "\n",
       "    .dataframe tbody tr th {\n",
       "        vertical-align: top;\n",
       "    }\n",
       "\n",
       "    .dataframe thead th {\n",
       "        text-align: right;\n",
       "    }\n",
       "</style>\n",
       "<table border=\"1\" class=\"dataframe\">\n",
       "  <thead>\n",
       "    <tr style=\"text-align: right;\">\n",
       "      <th></th>\n",
       "      <th>type</th>\n",
       "      <th>fixed acidity</th>\n",
       "      <th>volatile acidity</th>\n",
       "      <th>citric acid</th>\n",
       "      <th>residual sugar</th>\n",
       "      <th>chlorides</th>\n",
       "      <th>free sulfur dioxide</th>\n",
       "      <th>total sulfur dioxide</th>\n",
       "      <th>density</th>\n",
       "      <th>pH</th>\n",
       "      <th>sulphates</th>\n",
       "      <th>alcohol</th>\n",
       "      <th>quality</th>\n",
       "    </tr>\n",
       "  </thead>\n",
       "  <tbody>\n",
       "    <tr>\n",
       "      <th>0</th>\n",
       "      <td>white</td>\n",
       "      <td>7.0</td>\n",
       "      <td>0.27</td>\n",
       "      <td>0.36</td>\n",
       "      <td>20.7</td>\n",
       "      <td>0.045</td>\n",
       "      <td>45.0</td>\n",
       "      <td>170.0</td>\n",
       "      <td>1.0010</td>\n",
       "      <td>3.00</td>\n",
       "      <td>0.45</td>\n",
       "      <td>8.8</td>\n",
       "      <td>6</td>\n",
       "    </tr>\n",
       "    <tr>\n",
       "      <th>1</th>\n",
       "      <td>white</td>\n",
       "      <td>6.3</td>\n",
       "      <td>0.30</td>\n",
       "      <td>0.34</td>\n",
       "      <td>1.6</td>\n",
       "      <td>0.049</td>\n",
       "      <td>14.0</td>\n",
       "      <td>132.0</td>\n",
       "      <td>0.9940</td>\n",
       "      <td>3.30</td>\n",
       "      <td>0.49</td>\n",
       "      <td>9.5</td>\n",
       "      <td>6</td>\n",
       "    </tr>\n",
       "    <tr>\n",
       "      <th>2</th>\n",
       "      <td>white</td>\n",
       "      <td>8.1</td>\n",
       "      <td>0.28</td>\n",
       "      <td>0.40</td>\n",
       "      <td>6.9</td>\n",
       "      <td>0.050</td>\n",
       "      <td>30.0</td>\n",
       "      <td>97.0</td>\n",
       "      <td>0.9951</td>\n",
       "      <td>3.26</td>\n",
       "      <td>0.44</td>\n",
       "      <td>10.1</td>\n",
       "      <td>6</td>\n",
       "    </tr>\n",
       "    <tr>\n",
       "      <th>3</th>\n",
       "      <td>white</td>\n",
       "      <td>7.2</td>\n",
       "      <td>0.23</td>\n",
       "      <td>0.32</td>\n",
       "      <td>8.5</td>\n",
       "      <td>0.058</td>\n",
       "      <td>47.0</td>\n",
       "      <td>186.0</td>\n",
       "      <td>0.9956</td>\n",
       "      <td>3.19</td>\n",
       "      <td>0.40</td>\n",
       "      <td>9.9</td>\n",
       "      <td>6</td>\n",
       "    </tr>\n",
       "    <tr>\n",
       "      <th>4</th>\n",
       "      <td>white</td>\n",
       "      <td>7.2</td>\n",
       "      <td>0.23</td>\n",
       "      <td>0.32</td>\n",
       "      <td>8.5</td>\n",
       "      <td>0.058</td>\n",
       "      <td>47.0</td>\n",
       "      <td>186.0</td>\n",
       "      <td>0.9956</td>\n",
       "      <td>3.19</td>\n",
       "      <td>0.40</td>\n",
       "      <td>9.9</td>\n",
       "      <td>6</td>\n",
       "    </tr>\n",
       "  </tbody>\n",
       "</table>\n",
       "</div>"
      ],
      "text/plain": [
       "    type  fixed acidity  volatile acidity  citric acid  residual sugar  \\\n",
       "0  white            7.0              0.27         0.36            20.7   \n",
       "1  white            6.3              0.30         0.34             1.6   \n",
       "2  white            8.1              0.28         0.40             6.9   \n",
       "3  white            7.2              0.23         0.32             8.5   \n",
       "4  white            7.2              0.23         0.32             8.5   \n",
       "\n",
       "   chlorides  free sulfur dioxide  total sulfur dioxide  density    pH  \\\n",
       "0      0.045                 45.0                 170.0   1.0010  3.00   \n",
       "1      0.049                 14.0                 132.0   0.9940  3.30   \n",
       "2      0.050                 30.0                  97.0   0.9951  3.26   \n",
       "3      0.058                 47.0                 186.0   0.9956  3.19   \n",
       "4      0.058                 47.0                 186.0   0.9956  3.19   \n",
       "\n",
       "   sulphates  alcohol  quality  \n",
       "0       0.45      8.8        6  \n",
       "1       0.49      9.5        6  \n",
       "2       0.44     10.1        6  \n",
       "3       0.40      9.9        6  \n",
       "4       0.40      9.9        6  "
      ]
     },
     "execution_count": 2,
     "metadata": {},
     "output_type": "execute_result"
    }
   ],
   "source": [
    "data = pd.read_csv('winequalityN.csv')\n",
    "data.head()"
   ]
  },
  {
   "cell_type": "markdown",
   "id": "0812b4a5",
   "metadata": {},
   "source": [
    "# Normality Test using Shapiro-Wilk Test  \n",
    "##### Tests if the dataset is Normally distributed or no\n",
    "The Shapiro-Wilk test is a popular normality test used to assess whether a dataset follows a normal distribution. It is based on the idea that if the data is normally distributed, the deviations of individual data points from the mean should follow a specific pattern.\n",
    "\n",
    "In the Shapiro-Wilk test:\n",
    "\n",
    "The null hypothesis (H0) assumes that the data follows a normal distribution.\n",
    "The alternative hypothesis (H1) is that the data does not follow a normal distribution.\n",
    "The test statistic, denoted as W, is calculated based on the sample data. If the p-value associated with the test is less than the chosen significance level (e.g., 0.05), you reject the null hypothesis, indicating that the data significantly deviates from a normal distribution."
   ]
  },
  {
   "cell_type": "code",
   "execution_count": 29,
   "id": "0e33c371",
   "metadata": {},
   "outputs": [
    {
     "data": {
      "image/png": "[encoded data removed]",
      "text/plain": [
       "<Figure size 500x400 with 1 Axes>"
      ]
     },
     "metadata": {},
     "output_type": "display_data"
    }
   ],
   "source": [
    "import matplotlib.pyplot as plt\n",
    "import seaborn as sns\n",
    "plt.figure(figsize=(5,4))\n",
    "sns.distplot(a=data['volatile acidity'], bins = 80)\n",
    "plt.show()"
   ]
  },
  {
   "cell_type": "code",
   "execution_count": 5,
   "id": "3a254136",
   "metadata": {},
   "outputs": [],
   "source": [
    "from scipy.stats import shapiro"
   ]
  },
  {
   "cell_type": "code",
   "execution_count": 50,
   "id": "cb1ca7a9",
   "metadata": {},
   "outputs": [],
   "source": [
    "null_hypothesis  = 'Normally distributed'\n",
    "alternative_hypothesis = 'Not Normally distributed'"
   ]
  },
  {
   "cell_type": "code",
   "execution_count": 55,
   "id": "06bd6026",
   "metadata": {},
   "outputs": [
    {
     "name": "stdout",
     "output_type": "stream",
     "text": [
      "Warning: Missing values found in the 'volatile acidity' column. Handle missing data before testing.\n"
     ]
    }
   ],
   "source": [
    "# Extract the 'volatile acidity' column from your DataFrame\n",
    "data_to_test = data['volatile acidity']\n",
    "\n",
    "# Check for missing values\n",
    "if data_to_test.isna().any():\n",
    "    print(\"Warning: Missing values found in the 'volatile acidity' column. Handle missing data before testing.\")\n",
    "else:\n",
    "    # Perform the Shapiro-Wilk test\n",
    "    stat, p = shapiro(data_to_test)\n",
    "    print(f\"stat = {stat:.2f}, p = {p:.3f}\")\n",
    "\n",
    "    if p < 0.05:\n",
    "        print(\"Reject the null hypothesis: Data is not normally distributed.\")\n",
    "    else:\n",
    "        print(\"Fail to reject the null hypothesis: Data may be normally distributed.\")\n"
   ]
  },
  {
   "cell_type": "code",
   "execution_count": 42,
   "id": "c8665810",
   "metadata": {},
   "outputs": [
    {
     "name": "stdout",
     "output_type": "stream",
     "text": [
      "stat = 0.88, p = 0.0000000000\n",
      "Reject the null hypothesis: Data is not normally distributed.\n"
     ]
    }
   ],
   "source": [
    "data_to_test = data['volatile acidity'].dropna()\n",
    "stat, p = shapiro(data_to_test)\n",
    "print(f\"stat = {stat:.2f}, p = {p:.10f}\")\n",
    "\n",
    "if p < 0.05:\n",
    "    print(\"Reject the null hypothesis: Data is not normally distributed.\")\n",
    "else:\n",
    "    print(\"Fail to reject the null hypothesis: Data may be normally distributed.\")\n"
   ]
  },
  {
   "cell_type": "markdown",
   "id": "791e1a9d",
   "metadata": {},
   "source": [
    "# lets test with K^2 test for normality test\n",
    "\n",
    "The K2 test, also known as the Lilliefors test, is a variation of the Kolmogorov-Smirnov test designed specifically for testing normality. While the original Kolmogorov-Smirnov test can be used for testing any distribution against a known distribution, the K2 test focuses on testing whether a dataset follows a normal distribution.\n",
    "\n",
    "Like the Shapiro-Wilk test, the K2 test is based on comparing the empirical distribution function of the data to the expected cumulative distribution function of a normal distribution. It assesses the deviation of the dataset from normality.\n",
    "\n",
    "The K2 test is particularly useful when you want to test for normality against a specific distribution (i.e., the normal distribution) and is often used as an alternative to the Shapiro-Wilk test."
   ]
  },
  {
   "cell_type": "code",
   "execution_count": 52,
   "id": "e1caadfe",
   "metadata": {},
   "outputs": [],
   "source": [
    "from scipy.stats import normaltest"
   ]
  },
  {
   "cell_type": "code",
   "execution_count": 53,
   "id": "208d7f73",
   "metadata": {},
   "outputs": [],
   "source": [
    "test_data = data['alcohol']"
   ]
  },
  {
   "cell_type": "code",
   "execution_count": 56,
   "id": "91a7176d",
   "metadata": {},
   "outputs": [
    {
     "name": "stdout",
     "output_type": "stream",
     "text": [
      "stat = 449.961, p =0.000000\n",
      "Reject the null hypothesis: Data is not normally distributed\n"
     ]
    }
   ],
   "source": [
    "if test_data.isna().any():\n",
    "    print(\"warning : Handle missing values\")\n",
    "else:\n",
    "    stat,p = normaltest(test_data)\n",
    "    print(f\"stat = {stat:.3f}, p ={p:.6f}\")\n",
    "    \n",
    "    if p < 0.05:\n",
    "        print('Reject the null hypothesis: Data is not normally distributed')\n",
    "    else:\n",
    "        print(\"Fail to Reject Null hypothesis : Data is Normally Distributed\")"
   ]
  },
  {
   "cell_type": "code",
   "execution_count": 60,
   "id": "bea80065",
   "metadata": {},
   "outputs": [
    {
     "data": {
      "image/png": "[encoded data removed]",
      "text/plain": [
       "<Figure size 640x480 with 1 Axes>"
      ]
     },
     "metadata": {},
     "output_type": "display_data"
    }
   ],
   "source": [
    "sns.distplot(a=data['alcohol'], bins=10)\n",
    "plt.show()"
   ]
  },
  {
   "cell_type": "markdown",
   "id": "f3c6ac41",
   "metadata": {},
   "source": [
    "\n",
    "**Shapiro-Wilk Test:**\n",
    "\n",
    "- Imagine you have a group of students, and you want to know if their test scores are normally distributed, meaning the scores follow a specific pattern like a bell-shaped curve.\n",
    "- The Shapiro-Wilk test checks how well the scores match this bell-shaped pattern.\n",
    "- If the test says the scores are not close to this pattern (p-value is small), you might conclude that they don't follow a normal distribution.\n",
    "- Example: If most students' scores are clustered around the average with only a few very high or very low scores, it's close to normal, and the test might say \"yes.\"\n",
    "\n",
    "**K2 (Lilliefors) Test:**\n",
    "\n",
    "- Now, let's say you're not just interested in a general bell-shaped pattern; you specifically want to check if the scores match exactly with a normal distribution.\n",
    "- The K2 test does a similar job but focuses on checking against this very precise bell-shaped pattern.\n",
    "- It can be useful if you want to be very sure that the scores follow a perfect bell curve.\n",
    "- Example: If you compare the scores to a perfectly shaped bell curve and they don't match perfectly (p-value is small), the test might say \"no.\"\n",
    "\n",
    "In summary, both tests check if data looks like a bell-shaped curve, but the Shapiro-Wilk test is more common and flexible, while the K2 test is more specific and less sensitive to sample size. Which one to use depends on how exact you want your bell-shaped pattern to be."
   ]
  },
  {
   "cell_type": "code",
   "execution_count": null,
   "id": "c4841d56",
   "metadata": {},
   "outputs": [],
   "source": []
  }
 ],
 "metadata": {
  "kernelspec": {
   "display_name": "Python 3 (ipykernel)",
   "language": "python",
   "name": "python3"
  },
  "language_info": {
   "codemirror_mode": {
    "name": "ipython",
    "version": 3
   },
   "file_extension": ".py",
   "mimetype": "text/x-python",
   "name": "python",
   "nbconvert_exporter": "python",
   "pygments_lexer": "ipython3",
   "version": "3.9.13"
  }
 },
 "nbformat": 4,
 "nbformat_minor": 5
}
