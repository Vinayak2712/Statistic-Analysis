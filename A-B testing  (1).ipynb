{
 "cells": [
  {
   "cell_type": "markdown",
   "id": "0bd4b4bc",
   "metadata": {},
   "source": [
    "## Problem statement\n",
    "The mobile shop is considering two distinct strategies for promoting mobile accessories:\n",
    "\n",
    "Recommending tempered glass in conjunction with mobile purchases.\n",
    "Recommending tempered glass along with mobile covers for purchase.\n",
    "The problem at hand is to conduct an A/B test to determine which recommendation approach leads to higher customer engagement and increased sales. This test will aid in identifying the more effective strategy for optimizing accessory sales alongside mobile devices."
   ]
  },
  {
   "cell_type": "code",
   "execution_count": 1,
   "id": "e7fed87e",
   "metadata": {},
   "outputs": [],
   "source": [
    "import numpy as np\n",
    "import pandas as pd\n",
    "import matplotlib.pyplot as plt\n",
    "import warnings\n",
    "warnings.filterwarnings('ignore')"
   ]
  },
  {
   "cell_type": "code",
   "execution_count": 3,
   "id": "ddc9ac85",
   "metadata": {},
   "outputs": [],
   "source": [
    "data = pd.read_csv('Recommendation_data.csv')"
   ]
  },
  {
   "cell_type": "code",
   "execution_count": 4,
   "id": "773863f6",
   "metadata": {},
   "outputs": [
    {
     "data": {
      "text/html": [
       "<div>\n",
       "<style scoped>\n",
       "    .dataframe tbody tr th:only-of-type {\n",
       "        vertical-align: middle;\n",
       "    }\n",
       "\n",
       "    .dataframe tbody tr th {\n",
       "        vertical-align: top;\n",
       "    }\n",
       "\n",
       "    .dataframe thead th {\n",
       "        text-align: right;\n",
       "    }\n",
       "</style>\n",
       "<table border=\"1\" class=\"dataframe\">\n",
       "  <thead>\n",
       "    <tr style=\"text-align: right;\">\n",
       "      <th></th>\n",
       "      <th>customer_id</th>\n",
       "      <th>Recommendation_name</th>\n",
       "      <th>Recommendation_date</th>\n",
       "      <th>suggestion_type</th>\n",
       "      <th>purchase_flag</th>\n",
       "    </tr>\n",
       "  </thead>\n",
       "  <tbody>\n",
       "    <tr>\n",
       "      <th>0</th>\n",
       "      <td>1.0</td>\n",
       "      <td>Recommend_screenguard</td>\n",
       "      <td>02-07-2021</td>\n",
       "      <td>With phone</td>\n",
       "      <td>0.0</td>\n",
       "    </tr>\n",
       "    <tr>\n",
       "      <th>1</th>\n",
       "      <td>2.0</td>\n",
       "      <td>Recommend_screenguard</td>\n",
       "      <td>03-07-2021</td>\n",
       "      <td>With phone</td>\n",
       "      <td>0.0</td>\n",
       "    </tr>\n",
       "    <tr>\n",
       "      <th>2</th>\n",
       "      <td>3.0</td>\n",
       "      <td>Recommend_screenguard</td>\n",
       "      <td>04-07-2021</td>\n",
       "      <td>With cover</td>\n",
       "      <td>1.0</td>\n",
       "    </tr>\n",
       "    <tr>\n",
       "      <th>3</th>\n",
       "      <td>4.0</td>\n",
       "      <td>Recommend_screenguard</td>\n",
       "      <td>05-07-2021</td>\n",
       "      <td>With phone</td>\n",
       "      <td>0.0</td>\n",
       "    </tr>\n",
       "    <tr>\n",
       "      <th>4</th>\n",
       "      <td>5.0</td>\n",
       "      <td>Recommend_screenguard</td>\n",
       "      <td>06-07-2021</td>\n",
       "      <td>With cover</td>\n",
       "      <td>1.0</td>\n",
       "    </tr>\n",
       "  </tbody>\n",
       "</table>\n",
       "</div>"
      ],
      "text/plain": [
       "   customer_id    Recommendation_name Recommendation_date suggestion_type  \\\n",
       "0          1.0  Recommend_screenguard          02-07-2021      With phone   \n",
       "1          2.0  Recommend_screenguard          03-07-2021      With phone   \n",
       "2          3.0  Recommend_screenguard          04-07-2021      With cover   \n",
       "3          4.0  Recommend_screenguard          05-07-2021      With phone   \n",
       "4          5.0  Recommend_screenguard          06-07-2021      With cover   \n",
       "\n",
       "   purchase_flag  \n",
       "0            0.0  \n",
       "1            0.0  \n",
       "2            1.0  \n",
       "3            0.0  \n",
       "4            1.0  "
      ]
     },
     "execution_count": 4,
     "metadata": {},
     "output_type": "execute_result"
    }
   ],
   "source": [
    "data.head()"
   ]
  },
  {
   "cell_type": "code",
   "execution_count": 5,
   "id": "974d2832",
   "metadata": {},
   "outputs": [
    {
     "data": {
      "text/plain": [
       "customer_id            159\n",
       "Recommendation_name    159\n",
       "Recommendation_date    159\n",
       "suggestion_type        159\n",
       "purchase_flag          159\n",
       "dtype: int64"
      ]
     },
     "execution_count": 5,
     "metadata": {},
     "output_type": "execute_result"
    }
   ],
   "source": [
    "data.isnull().sum()"
   ]
  },
  {
   "cell_type": "code",
   "execution_count": 6,
   "id": "595ebade",
   "metadata": {},
   "outputs": [],
   "source": [
    "data.dropna(inplace = True)"
   ]
  },
  {
   "cell_type": "code",
   "execution_count": 7,
   "id": "d72aeec4",
   "metadata": {},
   "outputs": [
    {
     "data": {
      "text/plain": [
       "customer_id            0\n",
       "Recommendation_name    0\n",
       "Recommendation_date    0\n",
       "suggestion_type        0\n",
       "purchase_flag          0\n",
       "dtype: int64"
      ]
     },
     "execution_count": 7,
     "metadata": {},
     "output_type": "execute_result"
    }
   ],
   "source": [
    "data.isnull().sum()"
   ]
  },
  {
   "cell_type": "code",
   "execution_count": 9,
   "id": "94aee902",
   "metadata": {},
   "outputs": [
    {
     "data": {
      "text/plain": [
       "(711, 5)"
      ]
     },
     "execution_count": 9,
     "metadata": {},
     "output_type": "execute_result"
    }
   ],
   "source": [
    "data.shape\n"
   ]
  },
  {
   "cell_type": "markdown",
   "id": "23c45cc9",
   "metadata": {},
   "source": [
    "##   What is A/B testing ?\n",
    "\n",
    "#####  A/B testing, in simple words, is a method used to compare two different versions of something to figure out which one performs better.!\n",
    "\n",
    "\n",
    "#### example...  It's like trying two flavors of ice cream to see which one people like more. In A/B testing, you have Version A (the original or current version) and Version B (a new or changed version), and you show these versions to different groups of people to see which one gets a better response. This helps you make decisions based on real data about what works best.\n"
   ]
  },
  {
   "cell_type": "code",
   "execution_count": 10,
   "id": "35d87e0a",
   "metadata": {},
   "outputs": [
    {
     "data": {
      "text/plain": [
       "suggestion_type  purchase_flag\n",
       "With cover       0.0              206\n",
       "                 1.0              130\n",
       "With phone       0.0              258\n",
       "                 1.0              117\n",
       "Name: purchase_flag, dtype: int64"
      ]
     },
     "execution_count": 10,
     "metadata": {},
     "output_type": "execute_result"
    }
   ],
   "source": [
    "data.groupby('suggestion_type')['purchase_flag'].value_counts()    "
   ]
  },
  {
   "cell_type": "code",
   "execution_count": 12,
   "id": "c125587d",
   "metadata": {},
   "outputs": [
    {
     "data": {
      "text/plain": [
       "array([[206, 130],\n",
       "       [258, 117]], dtype=int64)"
      ]
     },
     "execution_count": 12,
     "metadata": {},
     "output_type": "execute_result"
    }
   ],
   "source": [
    "# contigency table\n",
    "\n",
    "CT_values = pd.crosstab(data['suggestion_type'], data['purchase_flag']).values\n",
    "CT_values"
   ]
  },
  {
   "cell_type": "code",
   "execution_count": 17,
   "id": "293a3f05",
   "metadata": {},
   "outputs": [
    {
     "name": "stdout",
     "output_type": "stream",
     "text": [
      "purchase rate with phone 31.2 %\n",
      "purchase rate with cover 38.69047619047619 %\n"
     ]
    }
   ],
   "source": [
    "# lets find the rate at which cover sold w.rt to each product\n",
    "\n",
    "rate_with_phone = (117)/(117+258) * 100\n",
    "rate_with_cover = (130)/(130+206) * 100\n",
    "print(f\"purchase rate with phone {rate_with_phone} %\")\n",
    "print(f\"purchase rate with cover {rate_with_cover} %\")"
   ]
  },
  {
   "cell_type": "markdown",
   "id": "5ea6a687",
   "metadata": {},
   "source": [
    "## Chi 2  test"
   ]
  },
  {
   "cell_type": "markdown",
   "id": "e88ba339",
   "metadata": {},
   "source": [
    "* **null_hypothesis = \"there is no relationship between purchase rate and recommendation, they are Independent\"**. \n",
    ". \n",
    ".\n",
    "\n",
    "\n",
    "* **Alternative_hypothesis = \"there is relationship between purchase rate and recommendation\"**"
   ]
  },
  {
   "cell_type": "code",
   "execution_count": 23,
   "id": "20c50e48",
   "metadata": {},
   "outputs": [
    {
     "name": "stdout",
     "output_type": "stream",
     "text": [
      "4.385751976925068 0.03624050241176425\n"
     ]
    }
   ],
   "source": [
    "from scipy.stats import chi2_contingency\n",
    "chi2_statistic, p_value, dof, expected_values = chi2_contingency(CT_values, correction = False)\n",
    "print(chi2_statistic, p_value)"
   ]
  },
  {
   "cell_type": "code",
   "execution_count": 24,
   "id": "d4f6a3aa",
   "metadata": {},
   "outputs": [
    {
     "name": "stdout",
     "output_type": "stream",
     "text": [
      "significance = 0.050 , p=0.950\n",
      "We can reject 'Null Hypothesis(H0)' safely\n"
     ]
    }
   ],
   "source": [
    "prob = 0.95\n",
    "alpha = 1-prob\n",
    "print('significance = %.3f , p=%.3f' % (alpha,prob))\n",
    "if p_value <= alpha:\n",
    "    print(\"We can reject 'Null Hypothesis(H0)' safely\")\n",
    "else:\n",
    "    print(\"We fail to reject 'Null Hypothesis(H0)' \")"
   ]
  },
  {
   "cell_type": "markdown",
   "id": "4d776d51",
   "metadata": {},
   "source": [
    "# Use Cases\n",
    "\n",
    "1. **Data Analyst:**\n",
    "   - **Website Conversion Optimization:** Data analysts can use A/B testing to assess changes in website design, layout, or content to determine which variations lead to higher conversion rates, such as sign-ups, purchases, or clicks.\n",
    "   - **Email Marketing Campaigns:** Analyzing the performance of different email subject lines, content, or send times through A/B tests helps data analysts fine-tune email campaigns for better engagement and open rates.\n",
    "   - **Product Feature Adoption:** A/B testing can be used to compare the adoption rates of new product features, allowing analysts to prioritize and iterate on features that resonate most with users.\n",
    "\n",
    "2. **Data Scientist:**\n",
    "   - **Machine Learning Model Tuning:** Data scientists can use A/B testing to evaluate the performance of different machine learning algorithms, hyperparameters, or model variations to select the best model for a specific task.\n",
    "   - **Recommendation Systems:** A/B testing helps data scientists optimize recommendation algorithms by comparing different recommendation strategies and assessing their impact on user engagement and conversion.\n",
    "   - **Content Personalization:** Data scientists can leverage A/B testing to refine content personalization algorithms, ensuring that users receive tailored content that maximizes user engagement and retention.\n",
    "\n",
    "3. **Business Analyst:**\n",
    "   - **Marketing Campaign Optimization:** Business analysts use A/B testing to assess the effectiveness of marketing campaigns, including variations in ad copy, visuals, targeting, and messaging, to maximize ROI.\n",
    "   - **Pricing Strategy:** A/B testing can be employed to test different pricing structures and strategies, helping business analysts determine the most profitable pricing model.\n",
    "   - **User Experience (UX) Enhancement:** Business analysts can evaluate changes in user experience, such as navigation menus, checkout processes, or app features, to improve customer satisfaction and retention.\n",
    "\n"
   ]
  },
  {
   "cell_type": "markdown",
   "id": "5852b3db",
   "metadata": {},
   "source": [
    "# Conclusion \n",
    "\n",
    "#### There is Relationship Between Purchase Rate and Recommendation"
   ]
  },
  {
   "cell_type": "markdown",
   "id": "244975c8",
   "metadata": {},
   "source": [
    "###### Author  -       Vinayak Shivanagutti"
   ]
  },
  {
   "cell_type": "code",
   "execution_count": null,
   "id": "b8cd9538",
   "metadata": {},
   "outputs": [],
   "source": []
  }
 ],
 "metadata": {
  "kernelspec": {
   "display_name": "Python 3 (ipykernel)",
   "language": "python",
   "name": "python3"
  },
  "language_info": {
   "codemirror_mode": {
    "name": "ipython",
    "version": 3
   },
   "file_extension": ".py",
   "mimetype": "text/x-python",
   "name": "python",
   "nbconvert_exporter": "python",
   "pygments_lexer": "ipython3",
   "version": "3.9.13"
  }
 },
 "nbformat": 4,
 "nbformat_minor": 5
}
